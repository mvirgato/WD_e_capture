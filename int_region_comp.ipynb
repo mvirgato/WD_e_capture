{
 "metadata": {
  "language_info": {
   "codemirror_mode": {
    "name": "ipython",
    "version": 3
   },
   "file_extension": ".py",
   "mimetype": "text/x-python",
   "name": "python",
   "nbconvert_exporter": "python",
   "pygments_lexer": "ipython3",
   "version": "3.8.2"
  },
  "orig_nbformat": 2,
  "kernelspec": {
   "name": "python3",
   "display_name": "Python 3",
   "language": "python"
  }
 },
 "nbformat": 4,
 "nbformat_minor": 2,
 "cells": [
  {
   "cell_type": "code",
   "execution_count": 3,
   "metadata": {},
   "outputs": [],
   "source": [
    "import pandas as pd\n",
    "import numpy as np\n",
    "from matplotlib import pyplot as py\n",
    "from glob import glob"
   ]
  },
  {
   "cell_type": "code",
   "execution_count": 4,
   "metadata": {},
   "outputs": [],
   "source": [
    "results_G = pd.read_csv('G_points/result.dat', header=None, sep='\\t')\n",
    "results_M = pd.read_csv('logs/results.dat', header=None, sep='\\t')"
   ]
  },
  {
   "cell_type": "code",
   "execution_count": 5,
   "metadata": {},
   "outputs": [
    {
     "output_type": "execute_result",
     "data": {
      "text/plain": [
       "   0      1      2      3  4      5  6      7      8\n",
       "0 -5  46481  52723    258  0    445  0      0     17\n",
       "1 -4  46465  52577    296  0    643  0      0      4\n",
       "2 -3  45602  50396   1161  0   2775  0      3     57\n",
       "3 -2  35341  22159  11283  0  30307  0    142    767\n",
       "4 -1  19186   6180  25588  0  42381  0   1993   4672\n",
       "5  0  15558  33539   3871  0   3563  0  27338  16131\n",
       "6  1  23671  26390      0  0      0  0  23096  26843"
      ],
      "text/html": "<div>\n<style scoped>\n    .dataframe tbody tr th:only-of-type {\n        vertical-align: middle;\n    }\n\n    .dataframe tbody tr th {\n        vertical-align: top;\n    }\n\n    .dataframe thead th {\n        text-align: right;\n    }\n</style>\n<table border=\"1\" class=\"dataframe\">\n  <thead>\n    <tr style=\"text-align: right;\">\n      <th></th>\n      <th>0</th>\n      <th>1</th>\n      <th>2</th>\n      <th>3</th>\n      <th>4</th>\n      <th>5</th>\n      <th>6</th>\n      <th>7</th>\n      <th>8</th>\n    </tr>\n  </thead>\n  <tbody>\n    <tr>\n      <th>0</th>\n      <td>-5</td>\n      <td>46481</td>\n      <td>52723</td>\n      <td>258</td>\n      <td>0</td>\n      <td>445</td>\n      <td>0</td>\n      <td>0</td>\n      <td>17</td>\n    </tr>\n    <tr>\n      <th>1</th>\n      <td>-4</td>\n      <td>46465</td>\n      <td>52577</td>\n      <td>296</td>\n      <td>0</td>\n      <td>643</td>\n      <td>0</td>\n      <td>0</td>\n      <td>4</td>\n    </tr>\n    <tr>\n      <th>2</th>\n      <td>-3</td>\n      <td>45602</td>\n      <td>50396</td>\n      <td>1161</td>\n      <td>0</td>\n      <td>2775</td>\n      <td>0</td>\n      <td>3</td>\n      <td>57</td>\n    </tr>\n    <tr>\n      <th>3</th>\n      <td>-2</td>\n      <td>35341</td>\n      <td>22159</td>\n      <td>11283</td>\n      <td>0</td>\n      <td>30307</td>\n      <td>0</td>\n      <td>142</td>\n      <td>767</td>\n    </tr>\n    <tr>\n      <th>4</th>\n      <td>-1</td>\n      <td>19186</td>\n      <td>6180</td>\n      <td>25588</td>\n      <td>0</td>\n      <td>42381</td>\n      <td>0</td>\n      <td>1993</td>\n      <td>4672</td>\n    </tr>\n    <tr>\n      <th>5</th>\n      <td>0</td>\n      <td>15558</td>\n      <td>33539</td>\n      <td>3871</td>\n      <td>0</td>\n      <td>3563</td>\n      <td>0</td>\n      <td>27338</td>\n      <td>16131</td>\n    </tr>\n    <tr>\n      <th>6</th>\n      <td>1</td>\n      <td>23671</td>\n      <td>26390</td>\n      <td>0</td>\n      <td>0</td>\n      <td>0</td>\n      <td>0</td>\n      <td>23096</td>\n      <td>26843</td>\n    </tr>\n  </tbody>\n</table>\n</div>"
     },
     "metadata": {},
     "execution_count": 5
    }
   ],
   "source": [
    "results_G"
   ]
  },
  {
   "cell_type": "code",
   "execution_count": 6,
   "metadata": {},
   "outputs": [
    {
     "output_type": "execute_result",
     "data": {
      "text/plain": [
       "   0      1      2      3  4      5  6      7      8\n",
       "0 -5  46538  52751    239  0    463  0      0      9\n",
       "1 -4  46478  52574    299  0    644  0      0      5\n",
       "2 -3  45613  50396   1161  0   2768  0      3     59\n",
       "3 -2  35381  22207  11260  0  30262  0    136    754\n",
       "4 -1  20547   4994  24662  0  43204  0   1568   5025\n",
       "5  0  26848  22804   2909  0   3605  0  17020  26814\n",
       "6  1  23074  27230      1  0      0  0  23702  25993"
      ],
      "text/html": "<div>\n<style scoped>\n    .dataframe tbody tr th:only-of-type {\n        vertical-align: middle;\n    }\n\n    .dataframe tbody tr th {\n        vertical-align: top;\n    }\n\n    .dataframe thead th {\n        text-align: right;\n    }\n</style>\n<table border=\"1\" class=\"dataframe\">\n  <thead>\n    <tr style=\"text-align: right;\">\n      <th></th>\n      <th>0</th>\n      <th>1</th>\n      <th>2</th>\n      <th>3</th>\n      <th>4</th>\n      <th>5</th>\n      <th>6</th>\n      <th>7</th>\n      <th>8</th>\n    </tr>\n  </thead>\n  <tbody>\n    <tr>\n      <th>0</th>\n      <td>-5</td>\n      <td>46538</td>\n      <td>52751</td>\n      <td>239</td>\n      <td>0</td>\n      <td>463</td>\n      <td>0</td>\n      <td>0</td>\n      <td>9</td>\n    </tr>\n    <tr>\n      <th>1</th>\n      <td>-4</td>\n      <td>46478</td>\n      <td>52574</td>\n      <td>299</td>\n      <td>0</td>\n      <td>644</td>\n      <td>0</td>\n      <td>0</td>\n      <td>5</td>\n    </tr>\n    <tr>\n      <th>2</th>\n      <td>-3</td>\n      <td>45613</td>\n      <td>50396</td>\n      <td>1161</td>\n      <td>0</td>\n      <td>2768</td>\n      <td>0</td>\n      <td>3</td>\n      <td>59</td>\n    </tr>\n    <tr>\n      <th>3</th>\n      <td>-2</td>\n      <td>35381</td>\n      <td>22207</td>\n      <td>11260</td>\n      <td>0</td>\n      <td>30262</td>\n      <td>0</td>\n      <td>136</td>\n      <td>754</td>\n    </tr>\n    <tr>\n      <th>4</th>\n      <td>-1</td>\n      <td>20547</td>\n      <td>4994</td>\n      <td>24662</td>\n      <td>0</td>\n      <td>43204</td>\n      <td>0</td>\n      <td>1568</td>\n      <td>5025</td>\n    </tr>\n    <tr>\n      <th>5</th>\n      <td>0</td>\n      <td>26848</td>\n      <td>22804</td>\n      <td>2909</td>\n      <td>0</td>\n      <td>3605</td>\n      <td>0</td>\n      <td>17020</td>\n      <td>26814</td>\n    </tr>\n    <tr>\n      <th>6</th>\n      <td>1</td>\n      <td>23074</td>\n      <td>27230</td>\n      <td>1</td>\n      <td>0</td>\n      <td>0</td>\n      <td>0</td>\n      <td>23702</td>\n      <td>25993</td>\n    </tr>\n  </tbody>\n</table>\n</div>"
     },
     "metadata": {},
     "execution_count": 6
    }
   ],
   "source": [
    "results_M"
   ]
  },
  {
   "cell_type": "code",
   "execution_count": 7,
   "metadata": {},
   "outputs": [
    {
     "output_type": "stream",
     "name": "stderr",
     "text": [
      "<ipython-input-7-4a3faf3638b3>:4: RuntimeWarning: invalid value encountered in true_divide\n  pd.DataFrame(d1.values*100/m1.values)\n"
     ]
    },
    {
     "output_type": "execute_result",
     "data": {
      "text/plain": [
       "     0          1          2           3   4         5   6          7  \\\n",
       "0  0.0   0.122556   0.053094    7.645875 NaN  3.964758 NaN        NaN   \n",
       "1  0.0   0.027974   0.005706    1.008403 NaN  0.155400 NaN        NaN   \n",
       "2  0.0   0.024119   0.000000    0.000000 NaN  0.252571 NaN   0.000000   \n",
       "3  0.0   0.113119   0.216382    0.204054 NaN  0.148591 NaN   4.316547   \n",
       "4  0.0   6.850729  21.227850    3.685572 NaN  1.923234 NaN  23.869700   \n",
       "5  NaN  53.247182  38.105887   28.377581 NaN  1.171875 NaN  46.521484   \n",
       "6  0.0   2.554284   3.133159  200.000000 NaN       NaN NaN   2.589854   \n",
       "\n",
       "           8  \n",
       "0  61.538462  \n",
       "1  22.222222  \n",
       "2   3.448276  \n",
       "3   1.709402  \n",
       "4   7.280602  \n",
       "5  49.752008  \n",
       "6   3.217503  "
      ],
      "text/html": "<div>\n<style scoped>\n    .dataframe tbody tr th:only-of-type {\n        vertical-align: middle;\n    }\n\n    .dataframe tbody tr th {\n        vertical-align: top;\n    }\n\n    .dataframe thead th {\n        text-align: right;\n    }\n</style>\n<table border=\"1\" class=\"dataframe\">\n  <thead>\n    <tr style=\"text-align: right;\">\n      <th></th>\n      <th>0</th>\n      <th>1</th>\n      <th>2</th>\n      <th>3</th>\n      <th>4</th>\n      <th>5</th>\n      <th>6</th>\n      <th>7</th>\n      <th>8</th>\n    </tr>\n  </thead>\n  <tbody>\n    <tr>\n      <th>0</th>\n      <td>0.0</td>\n      <td>0.122556</td>\n      <td>0.053094</td>\n      <td>7.645875</td>\n      <td>NaN</td>\n      <td>3.964758</td>\n      <td>NaN</td>\n      <td>NaN</td>\n      <td>61.538462</td>\n    </tr>\n    <tr>\n      <th>1</th>\n      <td>0.0</td>\n      <td>0.027974</td>\n      <td>0.005706</td>\n      <td>1.008403</td>\n      <td>NaN</td>\n      <td>0.155400</td>\n      <td>NaN</td>\n      <td>NaN</td>\n      <td>22.222222</td>\n    </tr>\n    <tr>\n      <th>2</th>\n      <td>0.0</td>\n      <td>0.024119</td>\n      <td>0.000000</td>\n      <td>0.000000</td>\n      <td>NaN</td>\n      <td>0.252571</td>\n      <td>NaN</td>\n      <td>0.000000</td>\n      <td>3.448276</td>\n    </tr>\n    <tr>\n      <th>3</th>\n      <td>0.0</td>\n      <td>0.113119</td>\n      <td>0.216382</td>\n      <td>0.204054</td>\n      <td>NaN</td>\n      <td>0.148591</td>\n      <td>NaN</td>\n      <td>4.316547</td>\n      <td>1.709402</td>\n    </tr>\n    <tr>\n      <th>4</th>\n      <td>0.0</td>\n      <td>6.850729</td>\n      <td>21.227850</td>\n      <td>3.685572</td>\n      <td>NaN</td>\n      <td>1.923234</td>\n      <td>NaN</td>\n      <td>23.869700</td>\n      <td>7.280602</td>\n    </tr>\n    <tr>\n      <th>5</th>\n      <td>NaN</td>\n      <td>53.247182</td>\n      <td>38.105887</td>\n      <td>28.377581</td>\n      <td>NaN</td>\n      <td>1.171875</td>\n      <td>NaN</td>\n      <td>46.521484</td>\n      <td>49.752008</td>\n    </tr>\n    <tr>\n      <th>6</th>\n      <td>0.0</td>\n      <td>2.554284</td>\n      <td>3.133159</td>\n      <td>200.000000</td>\n      <td>NaN</td>\n      <td>NaN</td>\n      <td>NaN</td>\n      <td>2.589854</td>\n      <td>3.217503</td>\n    </tr>\n  </tbody>\n</table>\n</div>"
     },
     "metadata": {},
     "execution_count": 7
    }
   ],
   "source": [
    "d1 = abs(results_M-results_G)\n",
    "m1 = abs(results_M+results_G)/2\n",
    "\n",
    "pd.DataFrame(d1.values*100/m1.values)"
   ]
  },
  {
   "cell_type": "code",
   "execution_count": 8,
   "metadata": {},
   "outputs": [],
   "source": [
    "samples_G = {}\n",
    "files_G = glob('G_points/sample*')\n",
    "\n",
    "for name in files_G:\n",
    "    lab = name.lstrip('G_points/sample_')\n",
    "    lab = lab.rstrip('.dat')\n",
    "    lab = int(lab)\n",
    "    samples_G[lab] = pd.read_csv(name, header = None, sep = '\\t')\n",
    "\n",
    "samples_M = {}\n",
    "files_M = glob('logs/sample*')\n",
    "\n",
    "for name in files_M:\n",
    "    lab = name.lstrip('logs/sample_')\n",
    "    lab = lab.rstrip('.dat')\n",
    "    lab = int(lab)\n",
    "    samples_M[lab] = pd.read_csv(name, header = None, sep = '\\t')"
   ]
  },
  {
   "cell_type": "code",
   "execution_count": 34,
   "metadata": {},
   "outputs": [],
   "source": [
    "mass_num = -4"
   ]
  },
  {
   "cell_type": "code",
   "execution_count": 35,
   "metadata": {},
   "outputs": [
    {
     "output_type": "execute_result",
     "data": {
      "text/plain": [
       "              0         1         2         3         4             5  \\\n",
       "0      0.972748  0.800391  0.862955  0.880829  0.967228 -1.905320e-06   \n",
       "1      0.743507  0.254147  0.568105  0.148968  0.633521 -9.152650e-07   \n",
       "2      0.127546  0.477612  0.239886  0.118255  0.275181 -5.962730e-06   \n",
       "3      0.112788  0.833566  0.545835  0.442026  0.574804 -4.366870e-05   \n",
       "4      0.091092  0.940757  0.119037  0.119970  0.146927 -1.292010e-05   \n",
       "...         ...       ...       ...       ...       ...           ...   \n",
       "99995  0.101570  0.062423 -0.702185  0.305760 -0.614995 -1.824360e-06   \n",
       "99996  0.580940  0.243161  0.067998  0.423581  0.123066 -4.864950e-06   \n",
       "99997  0.323285  0.803119 -0.666957  0.996229 -0.637253 -7.473750e-05   \n",
       "99998  0.528185  0.378603 -0.136938  0.160189 -0.093673 -3.197250e-06   \n",
       "99999  0.737855  0.670743  0.931683  0.073347  0.972783 -1.360790e-06   \n",
       "\n",
       "              6  \n",
       "0     -0.000003  \n",
       "1     -0.000038  \n",
       "2     -0.000112  \n",
       "3     -0.000078  \n",
       "4     -0.000025  \n",
       "...         ...  \n",
       "99995 -0.000195  \n",
       "99996 -0.000074  \n",
       "99997 -0.000107  \n",
       "99998 -0.000070  \n",
       "99999 -0.000018  \n",
       "\n",
       "[100000 rows x 7 columns]"
      ],
      "text/html": "<div>\n<style scoped>\n    .dataframe tbody tr th:only-of-type {\n        vertical-align: middle;\n    }\n\n    .dataframe tbody tr th {\n        vertical-align: top;\n    }\n\n    .dataframe thead th {\n        text-align: right;\n    }\n</style>\n<table border=\"1\" class=\"dataframe\">\n  <thead>\n    <tr style=\"text-align: right;\">\n      <th></th>\n      <th>0</th>\n      <th>1</th>\n      <th>2</th>\n      <th>3</th>\n      <th>4</th>\n      <th>5</th>\n      <th>6</th>\n    </tr>\n  </thead>\n  <tbody>\n    <tr>\n      <th>0</th>\n      <td>0.972748</td>\n      <td>0.800391</td>\n      <td>0.862955</td>\n      <td>0.880829</td>\n      <td>0.967228</td>\n      <td>-1.905320e-06</td>\n      <td>-0.000003</td>\n    </tr>\n    <tr>\n      <th>1</th>\n      <td>0.743507</td>\n      <td>0.254147</td>\n      <td>0.568105</td>\n      <td>0.148968</td>\n      <td>0.633521</td>\n      <td>-9.152650e-07</td>\n      <td>-0.000038</td>\n    </tr>\n    <tr>\n      <th>2</th>\n      <td>0.127546</td>\n      <td>0.477612</td>\n      <td>0.239886</td>\n      <td>0.118255</td>\n      <td>0.275181</td>\n      <td>-5.962730e-06</td>\n      <td>-0.000112</td>\n    </tr>\n    <tr>\n      <th>3</th>\n      <td>0.112788</td>\n      <td>0.833566</td>\n      <td>0.545835</td>\n      <td>0.442026</td>\n      <td>0.574804</td>\n      <td>-4.366870e-05</td>\n      <td>-0.000078</td>\n    </tr>\n    <tr>\n      <th>4</th>\n      <td>0.091092</td>\n      <td>0.940757</td>\n      <td>0.119037</td>\n      <td>0.119970</td>\n      <td>0.146927</td>\n      <td>-1.292010e-05</td>\n      <td>-0.000025</td>\n    </tr>\n    <tr>\n      <th>...</th>\n      <td>...</td>\n      <td>...</td>\n      <td>...</td>\n      <td>...</td>\n      <td>...</td>\n      <td>...</td>\n      <td>...</td>\n    </tr>\n    <tr>\n      <th>99995</th>\n      <td>0.101570</td>\n      <td>0.062423</td>\n      <td>-0.702185</td>\n      <td>0.305760</td>\n      <td>-0.614995</td>\n      <td>-1.824360e-06</td>\n      <td>-0.000195</td>\n    </tr>\n    <tr>\n      <th>99996</th>\n      <td>0.580940</td>\n      <td>0.243161</td>\n      <td>0.067998</td>\n      <td>0.423581</td>\n      <td>0.123066</td>\n      <td>-4.864950e-06</td>\n      <td>-0.000074</td>\n    </tr>\n    <tr>\n      <th>99997</th>\n      <td>0.323285</td>\n      <td>0.803119</td>\n      <td>-0.666957</td>\n      <td>0.996229</td>\n      <td>-0.637253</td>\n      <td>-7.473750e-05</td>\n      <td>-0.000107</td>\n    </tr>\n    <tr>\n      <th>99998</th>\n      <td>0.528185</td>\n      <td>0.378603</td>\n      <td>-0.136938</td>\n      <td>0.160189</td>\n      <td>-0.093673</td>\n      <td>-3.197250e-06</td>\n      <td>-0.000070</td>\n    </tr>\n    <tr>\n      <th>99999</th>\n      <td>0.737855</td>\n      <td>0.670743</td>\n      <td>0.931683</td>\n      <td>0.073347</td>\n      <td>0.972783</td>\n      <td>-1.360790e-06</td>\n      <td>-0.000018</td>\n    </tr>\n  </tbody>\n</table>\n<p>100000 rows × 7 columns</p>\n</div>"
     },
     "metadata": {},
     "execution_count": 35
    }
   ],
   "source": [
    "samples_M[mass_num]"
   ]
  },
  {
   "cell_type": "code",
   "execution_count": 36,
   "metadata": {},
   "outputs": [
    {
     "output_type": "execute_result",
     "data": {
      "text/plain": [
       "              0         1         2         3         4             5  \\\n",
       "0      0.972748  0.800391  0.862955  0.880829  0.967481 -1.905147e-06   \n",
       "1      0.743507  0.254147  0.568105  0.148968  0.633680 -9.147653e-07   \n",
       "2      0.127546  0.477612  0.239886  0.118255  0.275266 -5.959909e-06   \n",
       "3      0.112788  0.833566  0.545835  0.442026  0.574873 -4.365682e-05   \n",
       "4      0.091092  0.940757  0.119037  0.119970  0.146994 -1.291482e-05   \n",
       "...         ...       ...       ...       ...       ...           ...   \n",
       "99995  0.101570  0.062423 -0.702185  0.305760 -0.614783 -1.823105e-06   \n",
       "99996  0.580940  0.243161  0.067998  0.423581  0.123200 -4.863002e-06   \n",
       "99997  0.323285  0.803119 -0.666957  0.996229 -0.637182 -7.471747e-05   \n",
       "99998  0.528185  0.378603 -0.136938  0.160189 -0.093568 -3.195550e-06   \n",
       "99999  0.737855  0.670743  0.931683  0.073347  0.972883 -1.360401e-06   \n",
       "\n",
       "              6  \n",
       "0     -0.000003  \n",
       "1     -0.000038  \n",
       "2     -0.000112  \n",
       "3     -0.000078  \n",
       "4     -0.000025  \n",
       "...         ...  \n",
       "99995 -0.000195  \n",
       "99996 -0.000074  \n",
       "99997 -0.000107  \n",
       "99998 -0.000070  \n",
       "99999 -0.000018  \n",
       "\n",
       "[100000 rows x 7 columns]"
      ],
      "text/html": "<div>\n<style scoped>\n    .dataframe tbody tr th:only-of-type {\n        vertical-align: middle;\n    }\n\n    .dataframe tbody tr th {\n        vertical-align: top;\n    }\n\n    .dataframe thead th {\n        text-align: right;\n    }\n</style>\n<table border=\"1\" class=\"dataframe\">\n  <thead>\n    <tr style=\"text-align: right;\">\n      <th></th>\n      <th>0</th>\n      <th>1</th>\n      <th>2</th>\n      <th>3</th>\n      <th>4</th>\n      <th>5</th>\n      <th>6</th>\n    </tr>\n  </thead>\n  <tbody>\n    <tr>\n      <th>0</th>\n      <td>0.972748</td>\n      <td>0.800391</td>\n      <td>0.862955</td>\n      <td>0.880829</td>\n      <td>0.967481</td>\n      <td>-1.905147e-06</td>\n      <td>-0.000003</td>\n    </tr>\n    <tr>\n      <th>1</th>\n      <td>0.743507</td>\n      <td>0.254147</td>\n      <td>0.568105</td>\n      <td>0.148968</td>\n      <td>0.633680</td>\n      <td>-9.147653e-07</td>\n      <td>-0.000038</td>\n    </tr>\n    <tr>\n      <th>2</th>\n      <td>0.127546</td>\n      <td>0.477612</td>\n      <td>0.239886</td>\n      <td>0.118255</td>\n      <td>0.275266</td>\n      <td>-5.959909e-06</td>\n      <td>-0.000112</td>\n    </tr>\n    <tr>\n      <th>3</th>\n      <td>0.112788</td>\n      <td>0.833566</td>\n      <td>0.545835</td>\n      <td>0.442026</td>\n      <td>0.574873</td>\n      <td>-4.365682e-05</td>\n      <td>-0.000078</td>\n    </tr>\n    <tr>\n      <th>4</th>\n      <td>0.091092</td>\n      <td>0.940757</td>\n      <td>0.119037</td>\n      <td>0.119970</td>\n      <td>0.146994</td>\n      <td>-1.291482e-05</td>\n      <td>-0.000025</td>\n    </tr>\n    <tr>\n      <th>...</th>\n      <td>...</td>\n      <td>...</td>\n      <td>...</td>\n      <td>...</td>\n      <td>...</td>\n      <td>...</td>\n      <td>...</td>\n    </tr>\n    <tr>\n      <th>99995</th>\n      <td>0.101570</td>\n      <td>0.062423</td>\n      <td>-0.702185</td>\n      <td>0.305760</td>\n      <td>-0.614783</td>\n      <td>-1.823105e-06</td>\n      <td>-0.000195</td>\n    </tr>\n    <tr>\n      <th>99996</th>\n      <td>0.580940</td>\n      <td>0.243161</td>\n      <td>0.067998</td>\n      <td>0.423581</td>\n      <td>0.123200</td>\n      <td>-4.863002e-06</td>\n      <td>-0.000074</td>\n    </tr>\n    <tr>\n      <th>99997</th>\n      <td>0.323285</td>\n      <td>0.803119</td>\n      <td>-0.666957</td>\n      <td>0.996229</td>\n      <td>-0.637182</td>\n      <td>-7.471747e-05</td>\n      <td>-0.000107</td>\n    </tr>\n    <tr>\n      <th>99998</th>\n      <td>0.528185</td>\n      <td>0.378603</td>\n      <td>-0.136938</td>\n      <td>0.160189</td>\n      <td>-0.093568</td>\n      <td>-3.195550e-06</td>\n      <td>-0.000070</td>\n    </tr>\n    <tr>\n      <th>99999</th>\n      <td>0.737855</td>\n      <td>0.670743</td>\n      <td>0.931683</td>\n      <td>0.073347</td>\n      <td>0.972883</td>\n      <td>-1.360401e-06</td>\n      <td>-0.000018</td>\n    </tr>\n  </tbody>\n</table>\n<p>100000 rows × 7 columns</p>\n</div>"
     },
     "metadata": {},
     "execution_count": 36
    }
   ],
   "source": [
    "samples_G[mass_num]"
   ]
  },
  {
   "cell_type": "code",
   "execution_count": 37,
   "metadata": {},
   "outputs": [],
   "source": [
    "diff = abs(samples_G[mass_num] - samples_M[mass_num])*100\n",
    "avg = 0.5*(samples_G[mass_num] + samples_M[mass_num])\n",
    "\n",
    "percent = abs(pd.DataFrame(diff.values/avg.values))"
   ]
  },
  {
   "cell_type": "code",
   "execution_count": 38,
   "metadata": {},
   "outputs": [
    {
     "output_type": "execute_result",
     "data": {
      "text/plain": [
       "                  0         1         2         3         4           5  \\\n",
       "28275  4.939648e-04  0.000061  0.000267  0.000047  0.039831    0.026995   \n",
       "44142  4.907880e-04  0.000242  0.000055  0.000049  0.040863  200.000000   \n",
       "54997  4.897110e-04  0.000051  0.000150  0.000018  0.022591    0.024448   \n",
       "4578   4.888731e-04  0.000077  0.000047  0.000117  0.009941    0.040391   \n",
       "86921  4.887476e-04  0.000029  0.000054  0.000004  0.010907    0.038656   \n",
       "...             ...       ...       ...       ...       ...         ...   \n",
       "31947  4.171616e-09  0.000048  0.000062  0.000051  0.024949    0.038433   \n",
       "26216  2.378450e-09  0.000025  0.000085  0.000037  0.101101    0.050179   \n",
       "21740  1.873756e-09  0.000035  0.000020  0.000065  0.034282    0.053958   \n",
       "20984  1.557405e-09  0.000089  0.000011  0.000015  0.033355    0.026993   \n",
       "8248   9.924204e-10  0.000006  0.000048  0.000061  0.085824    0.034495   \n",
       "\n",
       "              6  \n",
       "28275  0.023396  \n",
       "44142  0.022579  \n",
       "54997  0.024891  \n",
       "4578   0.022355  \n",
       "86921  0.026180  \n",
       "...         ...  \n",
       "31947  0.022822  \n",
       "26216  0.026156  \n",
       "21740  0.022547  \n",
       "20984  0.022005  \n",
       "8248   0.028284  \n",
       "\n",
       "[100000 rows x 7 columns]"
      ],
      "text/html": "<div>\n<style scoped>\n    .dataframe tbody tr th:only-of-type {\n        vertical-align: middle;\n    }\n\n    .dataframe tbody tr th {\n        vertical-align: top;\n    }\n\n    .dataframe thead th {\n        text-align: right;\n    }\n</style>\n<table border=\"1\" class=\"dataframe\">\n  <thead>\n    <tr style=\"text-align: right;\">\n      <th></th>\n      <th>0</th>\n      <th>1</th>\n      <th>2</th>\n      <th>3</th>\n      <th>4</th>\n      <th>5</th>\n      <th>6</th>\n    </tr>\n  </thead>\n  <tbody>\n    <tr>\n      <th>28275</th>\n      <td>4.939648e-04</td>\n      <td>0.000061</td>\n      <td>0.000267</td>\n      <td>0.000047</td>\n      <td>0.039831</td>\n      <td>0.026995</td>\n      <td>0.023396</td>\n    </tr>\n    <tr>\n      <th>44142</th>\n      <td>4.907880e-04</td>\n      <td>0.000242</td>\n      <td>0.000055</td>\n      <td>0.000049</td>\n      <td>0.040863</td>\n      <td>200.000000</td>\n      <td>0.022579</td>\n    </tr>\n    <tr>\n      <th>54997</th>\n      <td>4.897110e-04</td>\n      <td>0.000051</td>\n      <td>0.000150</td>\n      <td>0.000018</td>\n      <td>0.022591</td>\n      <td>0.024448</td>\n      <td>0.024891</td>\n    </tr>\n    <tr>\n      <th>4578</th>\n      <td>4.888731e-04</td>\n      <td>0.000077</td>\n      <td>0.000047</td>\n      <td>0.000117</td>\n      <td>0.009941</td>\n      <td>0.040391</td>\n      <td>0.022355</td>\n    </tr>\n    <tr>\n      <th>86921</th>\n      <td>4.887476e-04</td>\n      <td>0.000029</td>\n      <td>0.000054</td>\n      <td>0.000004</td>\n      <td>0.010907</td>\n      <td>0.038656</td>\n      <td>0.026180</td>\n    </tr>\n    <tr>\n      <th>...</th>\n      <td>...</td>\n      <td>...</td>\n      <td>...</td>\n      <td>...</td>\n      <td>...</td>\n      <td>...</td>\n      <td>...</td>\n    </tr>\n    <tr>\n      <th>31947</th>\n      <td>4.171616e-09</td>\n      <td>0.000048</td>\n      <td>0.000062</td>\n      <td>0.000051</td>\n      <td>0.024949</td>\n      <td>0.038433</td>\n      <td>0.022822</td>\n    </tr>\n    <tr>\n      <th>26216</th>\n      <td>2.378450e-09</td>\n      <td>0.000025</td>\n      <td>0.000085</td>\n      <td>0.000037</td>\n      <td>0.101101</td>\n      <td>0.050179</td>\n      <td>0.026156</td>\n    </tr>\n    <tr>\n      <th>21740</th>\n      <td>1.873756e-09</td>\n      <td>0.000035</td>\n      <td>0.000020</td>\n      <td>0.000065</td>\n      <td>0.034282</td>\n      <td>0.053958</td>\n      <td>0.022547</td>\n    </tr>\n    <tr>\n      <th>20984</th>\n      <td>1.557405e-09</td>\n      <td>0.000089</td>\n      <td>0.000011</td>\n      <td>0.000015</td>\n      <td>0.033355</td>\n      <td>0.026993</td>\n      <td>0.022005</td>\n    </tr>\n    <tr>\n      <th>8248</th>\n      <td>9.924204e-10</td>\n      <td>0.000006</td>\n      <td>0.000048</td>\n      <td>0.000061</td>\n      <td>0.085824</td>\n      <td>0.034495</td>\n      <td>0.028284</td>\n    </tr>\n  </tbody>\n</table>\n<p>100000 rows × 7 columns</p>\n</div>"
     },
     "metadata": {},
     "execution_count": 38
    }
   ],
   "source": [
    "abs(pd.DataFrame(diff.values/avg.values)).sort_values(0, ascending=False)"
   ]
  },
  {
   "cell_type": "code",
   "execution_count": 39,
   "metadata": {
    "tags": []
   },
   "outputs": [],
   "source": [
    "mask_G = samples_G[mass_num] > 0\n",
    "mask_M = samples_M[mass_num] > 0"
   ]
  },
  {
   "cell_type": "code",
   "execution_count": 40,
   "metadata": {},
   "outputs": [],
   "source": [
    "comp = mask_M == mask_G"
   ]
  },
  {
   "cell_type": "code",
   "execution_count": 41,
   "metadata": {
    "tags": []
   },
   "outputs": [
    {
     "output_type": "execute_result",
     "data": {
      "text/plain": [
       "0     0.0\n",
       "1     0.0\n",
       "2     0.0\n",
       "3     0.0\n",
       "4    10.0\n",
       "5     9.0\n",
       "6     1.0\n",
       "dtype: float64"
      ]
     },
     "metadata": {},
     "execution_count": 41
    }
   ],
   "source": [
    "1e5 - comp[comp == True].count()"
   ]
  },
  {
   "cell_type": "code",
   "execution_count": null,
   "metadata": {},
   "outputs": [],
   "source": []
  }
 ]
}